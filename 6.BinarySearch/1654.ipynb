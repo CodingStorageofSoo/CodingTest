{
 "cells": [
  {
   "cell_type": "code",
   "execution_count": 1,
   "source": [
    "def calc(start, end, arr, n):\n",
    "    if end - start <= 1:\n",
    "        return start\n",
    "    mid=(start+end)//2\n",
    "    rst=0\n",
    "    for item in arr:\n",
    "        rst += (item//mid)\n",
    "    if rst<n:\n",
    "        return calc(start, mid, arr, n)\n",
    "    else:\n",
    "        return calc(mid, end, arr, n)"
   ],
   "outputs": [],
   "metadata": {}
  },
  {
   "cell_type": "code",
   "execution_count": null,
   "source": [
    "def solve():\n",
    "    k, n = map (int, input().split())\n",
    "    arr = []\n",
    "    big = 0\n",
    "    for _ in range(k):\n",
    "        x = int(input())\n",
    "        big = max (big, x)\n",
    "        arr.append(x)\n",
    "    print(calc(1,big+1,arr,n))"
   ],
   "outputs": [],
   "metadata": {}
  }
 ],
 "metadata": {
  "orig_nbformat": 4,
  "language_info": {
   "name": "python",
   "version": "3.8.2",
   "mimetype": "text/x-python",
   "codemirror_mode": {
    "name": "ipython",
    "version": 3
   },
   "pygments_lexer": "ipython3",
   "nbconvert_exporter": "python",
   "file_extension": ".py"
  },
  "kernelspec": {
   "name": "python3",
   "display_name": "Python 3.8.2 64-bit"
  },
  "interpreter": {
   "hash": "31f2aee4e71d21fbe5cf8b01ff0e069b9275f58929596ceb00d14d90e3e16cd6"
  }
 },
 "nbformat": 4,
 "nbformat_minor": 2
}