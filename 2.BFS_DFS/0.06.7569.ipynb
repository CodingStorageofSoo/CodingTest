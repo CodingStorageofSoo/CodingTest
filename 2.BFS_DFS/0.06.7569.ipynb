{
 "cells": [
  {
   "cell_type": "code",
   "execution_count": 4,
   "source": [
    "M,N,H = map(int, input().split())"
   ],
   "outputs": [],
   "metadata": {}
  },
  {
   "cell_type": "code",
   "execution_count": 5,
   "source": [
    "from collections import deque\n",
    "tomato = deque()\n",
    "\n",
    "box=[]\n",
    "for i in range(H):\n",
    "    tmp = []\n",
    "    for j in range(N):\n",
    "        tmp.append(list(map(int, input().split())))\n",
    "        for k in range(M):\n",
    "            if tmp[j][k] == 1:\n",
    "                tomato.append([i,j,k])\n",
    "    box.append(tmp)"
   ],
   "outputs": [],
   "metadata": {}
  },
  {
   "cell_type": "code",
   "execution_count": 6,
   "source": [
    "box"
   ],
   "outputs": [
    {
     "output_type": "execute_result",
     "data": {
      "text/plain": [
       "[[[0, -1, 0, 0, 0], [-1, -1, 0, 1, 1], [0, 0, 0, 1, 1]]]"
      ]
     },
     "metadata": {},
     "execution_count": 6
    }
   ],
   "metadata": {}
  },
  {
   "cell_type": "code",
   "execution_count": 7,
   "source": [
    "dx=[1,-1,0,0,0,0]\n",
    "dy=[0,0,1,-1,0,0]\n",
    "dz=[0,0,0,0,1,-1]"
   ],
   "outputs": [],
   "metadata": {}
  },
  {
   "cell_type": "code",
   "execution_count": 8,
   "source": [
    "while tomato :\n",
    "    x, y, z = tomato.popleft()\n",
    "    for i in range(6):\n",
    "        nx=x+dx[i]\n",
    "        ny=y+dy[i]\n",
    "        nz=z+dz[i]\n",
    "        if 0<= nx < H and 0<= ny < N and 0<=nz<M and box[nx][ny][nz]==0:\n",
    "            box[nx][ny][nz] = box[x][y][z]+1\n",
    "            tomato.append([nx,ny,nz])"
   ],
   "outputs": [],
   "metadata": {}
  },
  {
   "cell_type": "code",
   "execution_count": null,
   "source": [
    "ans = True\n",
    "day = 0\n",
    "for i in box:\n",
    "    for j in i:\n",
    "        for k in j:\n",
    "            if k ==0:\n",
    "                ans = False\n",
    "                exit()\n",
    "\n",
    "    day = max(day, max(j))\n",
    "\n",
    "if ans == False:\n",
    "    print(-1)\n",
    "else:\n",
    "    print (day-1)"
   ],
   "outputs": [],
   "metadata": {}
  }
 ],
 "metadata": {
  "orig_nbformat": 4,
  "language_info": {
   "name": "python",
   "version": "3.8.2",
   "mimetype": "text/x-python",
   "codemirror_mode": {
    "name": "ipython",
    "version": 3
   },
   "pygments_lexer": "ipython3",
   "nbconvert_exporter": "python",
   "file_extension": ".py"
  },
  "kernelspec": {
   "name": "python3",
   "display_name": "Python 3.8.2 64-bit"
  },
  "interpreter": {
   "hash": "31f2aee4e71d21fbe5cf8b01ff0e069b9275f58929596ceb00d14d90e3e16cd6"
  }
 },
 "nbformat": 4,
 "nbformat_minor": 2
}