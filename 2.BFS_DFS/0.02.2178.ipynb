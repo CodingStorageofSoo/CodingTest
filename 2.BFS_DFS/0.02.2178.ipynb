{
 "cells": [
  {
   "cell_type": "code",
   "execution_count": 1,
   "source": [
    "N, M = map(int, input().split())"
   ],
   "outputs": [],
   "metadata": {}
  },
  {
   "cell_type": "code",
   "execution_count": 31,
   "source": [
    "graph = [[] for _ in range(N)]\n",
    "for i in range(N):\n",
    "    graph[i] = list(map(int,input()))\n",
    "\n",
    "# graph=[]\n",
    "# for _ in range(N):\n",
    "#   graph.append(list(map(int, input())))"
   ],
   "outputs": [],
   "metadata": {}
  },
  {
   "cell_type": "code",
   "execution_count": 32,
   "source": [
    "graph"
   ],
   "outputs": [
    {
     "output_type": "execute_result",
     "data": {
      "text/plain": [
       "[[1, 0, 1, 1, 1, 1],\n",
       " [1, 0, 1, 0, 1, 0],\n",
       " [1, 0, 1, 0, 1, 1],\n",
       " [1, 1, 1, 0, 1, 1]]"
      ]
     },
     "metadata": {},
     "execution_count": 32
    }
   ],
   "metadata": {}
  },
  {
   "cell_type": "code",
   "execution_count": null,
   "source": [
    "dx=[1,-1,0,0]\n",
    "dy=[0,0,1,-1]"
   ],
   "outputs": [],
   "metadata": {}
  },
  {
   "cell_type": "code",
   "execution_count": 33,
   "source": [
    "from collections import deque\n",
    "\n",
    "def bfs (x,y):\n",
    "  move = deque()\n",
    "  move.append((x,y))\n",
    "  while move:\n",
    "    x, y = move.popleft()\n",
    "    for i in range (4):\n",
    "      nx = x + dx[i]\n",
    "      ny = y + dy[i]\n",
    "      if 0<=nx<N and 0<=ny<M and graph[nx][ny] == 1:\n",
    "        move.append((nx,ny))\n",
    "        graph[nx][ny] = graph[x][y]+1"
   ],
   "outputs": [],
   "metadata": {}
  },
  {
   "cell_type": "code",
   "execution_count": 34,
   "source": [
    "bfs(graph)\n",
    "print (graph[N-1][M-1])"
   ],
   "outputs": [
    {
     "output_type": "stream",
     "name": "stdout",
     "text": [
      "15\n"
     ]
    }
   ],
   "metadata": {}
  }
 ],
 "metadata": {
  "orig_nbformat": 4,
  "language_info": {
   "name": "python",
   "version": "3.8.2",
   "mimetype": "text/x-python",
   "codemirror_mode": {
    "name": "ipython",
    "version": 3
   },
   "pygments_lexer": "ipython3",
   "nbconvert_exporter": "python",
   "file_extension": ".py"
  },
  "kernelspec": {
   "name": "python3",
   "display_name": "Python 3.8.2 64-bit"
  },
  "interpreter": {
   "hash": "31f2aee4e71d21fbe5cf8b01ff0e069b9275f58929596ceb00d14d90e3e16cd6"
  }
 },
 "nbformat": 4,
 "nbformat_minor": 2
}