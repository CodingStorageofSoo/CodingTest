{
 "cells": [
  {
   "cell_type": "code",
   "execution_count": 1,
   "source": [
    "N, M = map(int,input().split())"
   ],
   "outputs": [],
   "metadata": {}
  },
  {
   "cell_type": "code",
   "execution_count": 2,
   "source": [
    "r, c, d = map(int,input().split())"
   ],
   "outputs": [],
   "metadata": {}
  },
  {
   "cell_type": "code",
   "execution_count": 5,
   "source": [
    "graph = []\n",
    "for _ in range (N):\n",
    "    graph.append(list(map(int,input().split())))"
   ],
   "outputs": [],
   "metadata": {}
  },
  {
   "cell_type": "code",
   "execution_count": 6,
   "source": [
    "graph"
   ],
   "outputs": [
    {
     "output_type": "execute_result",
     "data": {
      "text/plain": [
       "[[1, 1, 1], [1, 0, 1], [1, 1, 1]]"
      ]
     },
     "metadata": {},
     "execution_count": 6
    }
   ],
   "metadata": {}
  },
  {
   "cell_type": "code",
   "execution_count": 7,
   "source": [
    "dx = [-1,0,1,0]\n",
    "dy = [0,-1,0,1]"
   ],
   "outputs": [],
   "metadata": {}
  },
  {
   "cell_type": "code",
   "execution_count": null,
   "source": [
    "from collections import deque\n",
    "\n",
    "cnt = 1\n",
    "def dfs(y,x,d):\n",
    "    global cnt\n",
    "    move = deque()\n",
    "    move.append([y,x,d])\n",
    "    while move:\n",
    "        y,x,d = move.popleft()\n",
    "        nd = (d+3)%4 \n",
    "        for i in range (4):\n",
    "            nx = x + dx[nd]\n",
    "            ny = y + dy[nd]\n",
    "            if 0<=nx<M and 0<=ny<N :\n",
    "                if graph[ny][nx] == 0:\n",
    "                    move.append([ny,nx,d])\n",
    "                    cnt += 1\n",
    "                    break:\n",
    "\n",
    "        elif d==1:\n",
    "            for i in range (-1,3):\n",
    "                nx = x + dx[i]\n",
    "                ny = y + dy[i]\n",
    "        elif d==2:\n",
    "            for i in range (-2,2):\n",
    "                nx = x + dx[i]\n",
    "                ny = y + dy[i]\n",
    "        else: \n",
    "            for i in range (-3,1):\n",
    "                nx = x + dx[i]\n",
    "                ny = y + dy[i] "
   ],
   "outputs": [],
   "metadata": {}
  },
  {
   "cell_type": "code",
   "execution_count": null,
   "source": [
    "def dfs (x,y,d):\n",
    "    global ans\n",
    "    if graph[][]=0:\n",
    "        gra"
   ],
   "outputs": [],
   "metadata": {}
  },
  {
   "cell_type": "code",
   "execution_count": null,
   "source": [
    "# https://resilient-923.tistory.com/164"
   ],
   "outputs": [],
   "metadata": {}
  }
 ],
 "metadata": {
  "orig_nbformat": 4,
  "language_info": {
   "name": "python",
   "version": "3.8.2",
   "mimetype": "text/x-python",
   "codemirror_mode": {
    "name": "ipython",
    "version": 3
   },
   "pygments_lexer": "ipython3",
   "nbconvert_exporter": "python",
   "file_extension": ".py"
  },
  "kernelspec": {
   "name": "python3",
   "display_name": "Python 3.8.2 64-bit"
  },
  "interpreter": {
   "hash": "31f2aee4e71d21fbe5cf8b01ff0e069b9275f58929596ceb00d14d90e3e16cd6"
  }
 },
 "nbformat": 4,
 "nbformat_minor": 2
}