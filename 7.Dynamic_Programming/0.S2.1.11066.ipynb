{
 "cells": [
  {
   "cell_type": "code",
   "execution_count": 1,
   "source": [
    "import math \n",
    "\n",
    "def solve():\n",
    "    n = int(input())\n",
    "    arr = list(map(int,input().split()))\n",
    "    rst = [[0]*n for _ in range(n)]\n",
    "    for j in range(1, n):\n",
    "        for i in range(j-1, -1 , -1):\n",
    "            small = math.inf\n",
    "            for k in range(j-i):\n",
    "                small = min(small, rst[i][i+k]+rst[i+k+1][j])\n",
    "            rst[i][j] = small + sum(arr[i:j+1])\n",
    "    print(rst[0][n-1])"
   ],
   "outputs": [],
   "metadata": {}
  },
  {
   "cell_type": "code",
   "execution_count": null,
   "source": [
    "t = int(input())\n",
    "for _ in range(t):\n",
    "    solve()"
   ],
   "outputs": [],
   "metadata": {}
  },
  {
   "cell_type": "code",
   "execution_count": null,
   "source": [],
   "outputs": [],
   "metadata": {}
  }
 ],
 "metadata": {
  "orig_nbformat": 4,
  "language_info": {
   "name": "python",
   "version": "3.8.2",
   "mimetype": "text/x-python",
   "codemirror_mode": {
    "name": "ipython",
    "version": 3
   },
   "pygments_lexer": "ipython3",
   "nbconvert_exporter": "python",
   "file_extension": ".py"
  },
  "kernelspec": {
   "name": "python3",
   "display_name": "Python 3.8.2 64-bit"
  },
  "interpreter": {
   "hash": "31f2aee4e71d21fbe5cf8b01ff0e069b9275f58929596ceb00d14d90e3e16cd6"
  }
 },
 "nbformat": 4,
 "nbformat_minor": 2
}