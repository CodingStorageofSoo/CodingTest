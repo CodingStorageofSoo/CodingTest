{
 "cells": [
  {
   "cell_type": "code",
   "execution_count": null,
   "source": [
    "# https://www.acmicpc.net/problem/1753"
   ],
   "outputs": [],
   "metadata": {}
  },
  {
   "cell_type": "code",
   "execution_count": 1,
   "source": [
    "from heapq import heappop, heappush\n",
    "import sys\n",
    "INF = sys.maxsize"
   ],
   "outputs": [],
   "metadata": {}
  },
  {
   "cell_type": "code",
   "execution_count": 3,
   "source": [
    "V, E = map (int, input().split())\n",
    "K = int(input())\n",
    "dp = [INF] * (V+1)\n",
    "graph = [[] for _ in range (V+1)]"
   ],
   "outputs": [],
   "metadata": {}
  },
  {
   "cell_type": "code",
   "execution_count": null,
   "source": [
    "def Dijkstra (start):\n",
    "    dp [start] = 0\n",
    "    heap = []\n",
    "    heappush(heap, (0, start))\n",
    "    while heap :\n",
    "        wei, now = heappop(heap)\n",
    "        if dp[now] < wei:\n",
    "            continue\n",
    "        for w, next_node in graph[now]:\n",
    "            next_wei = w + wei\n",
    "            if next_wei < dp[next_node]:\n",
    "                dp [next_node] = next_wei\n",
    "                heapq.heappush(heap, (next_wei, next_node))"
   ],
   "outputs": [],
   "metadata": {}
  },
  {
   "cell_type": "code",
   "execution_count": null,
   "source": [
    "for _ in range (E):\n",
    "    u, v, w = map(int, input().split())\n",
    "    graph[u].append((w,v))"
   ],
   "outputs": [],
   "metadata": {}
  },
  {
   "cell_type": "code",
   "execution_count": null,
   "source": [
    "Dijkstra(K)\n",
    "for i in range(1, V+1):\n",
    "    print (\"INF\" if dp[i] == INF else dp [i])"
   ],
   "outputs": [],
   "metadata": {}
  }
 ],
 "metadata": {
  "orig_nbformat": 4,
  "language_info": {
   "name": "python",
   "version": "3.8.2",
   "mimetype": "text/x-python",
   "codemirror_mode": {
    "name": "ipython",
    "version": 3
   },
   "pygments_lexer": "ipython3",
   "nbconvert_exporter": "python",
   "file_extension": ".py"
  },
  "kernelspec": {
   "name": "python3",
   "display_name": "Python 3.8.2 64-bit"
  },
  "interpreter": {
   "hash": "31f2aee4e71d21fbe5cf8b01ff0e069b9275f58929596ceb00d14d90e3e16cd6"
  }
 },
 "nbformat": 4,
 "nbformat_minor": 2
}