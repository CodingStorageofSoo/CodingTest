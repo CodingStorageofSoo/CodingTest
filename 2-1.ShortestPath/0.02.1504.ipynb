{
 "cells": [
  {
   "cell_type": "code",
   "execution_count": null,
   "source": [
    "# https://www.acmicpc.net/problem/1504"
   ],
   "outputs": [],
   "metadata": {}
  },
  {
   "cell_type": "code",
   "execution_count": null,
   "source": [
    "from heapq import heappush, heappop\n",
    "import sys \n",
    "\n",
    "n, e = map (int, input().split())\n",
    "s = [[] for i in range(n+1)]\n",
    "inf = sys.maxsize\n",
    "for i in range(e):\n",
    "    a, b, c = map (int, input().split())\n",
    "    s[a].append([b,c])\n",
    "    s[b].append([a,c])\n",
    "v1, v2 = map(int, input().split())"
   ],
   "outputs": [],
   "metadata": {}
  },
  {
   "cell_type": "code",
   "execution_count": 1,
   "source": [
    "def dijkstra (start):\n",
    "    dp=[inf for i in range(n+1)]\n",
    "    dp[start]=0\n",
    "    heap=[]\n",
    "    heappush(heap, [0, start])\n",
    "    while heap:\n",
    "        w, c = heappop(heap)\n",
    "        for n_n, n_w in s[c]:\n",
    "            wei = n_w + w \n",
    "            if dp[n_n] > wei:\n",
    "                dp[n_n] = wei\n",
    "                heappush(heap, [wei, n_n])\n",
    "    return dp "
   ],
   "outputs": [],
   "metadata": {}
  },
  {
   "cell_type": "code",
   "execution_count": null,
   "source": [
    "one = dijkstra(1)\n",
    "v1_ = dijkstra(v1)\n",
    "v2_ = dijkstra(v2)\n",
    "cnt = min (one)\n"
   ],
   "outputs": [],
   "metadata": {}
  }
 ],
 "metadata": {
  "orig_nbformat": 4,
  "language_info": {
   "name": "python",
   "version": "3.8.2",
   "mimetype": "text/x-python",
   "codemirror_mode": {
    "name": "ipython",
    "version": 3
   },
   "pygments_lexer": "ipython3",
   "nbconvert_exporter": "python",
   "file_extension": ".py"
  },
  "kernelspec": {
   "name": "python3",
   "display_name": "Python 3.8.2 64-bit"
  },
  "interpreter": {
   "hash": "31f2aee4e71d21fbe5cf8b01ff0e069b9275f58929596ceb00d14d90e3e16cd6"
  }
 },
 "nbformat": 4,
 "nbformat_minor": 2
}