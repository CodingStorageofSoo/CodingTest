{
 "cells": [
  {
   "cell_type": "code",
   "execution_count": 1,
   "source": [
    "# https://www.acmicpc.net/problem/14502"
   ],
   "outputs": [],
   "metadata": {}
  },
  {
   "cell_type": "code",
   "execution_count": 3,
   "source": [
    "import copy"
   ],
   "outputs": [],
   "metadata": {}
  },
  {
   "cell_type": "code",
   "execution_count": 1,
   "source": [
    "N, M = map(int, input().split())\n",
    "graph = [list(map(int, input().split())) for _ in range(N)]\n",
    "graph_copy = copy.deepcopy(graph)\n"
   ],
   "outputs": [],
   "metadata": {}
  },
  {
   "cell_type": "code",
   "execution_count": 14,
   "source": [
    "graph \n"
   ],
   "outputs": [
    {
     "output_type": "execute_result",
     "data": {
      "text/plain": [
       "[[2, 0, 0, 0, 1, 1, 0],\n",
       " [0, 0, 1, 0, 1, 2, 0],\n",
       " [0, 1, 1, 0, 1, 0, 0],\n",
       " [0, 1, 0, 0, 0, 0, 0],\n",
       " [0, 0, 0, 0, 0, 1, 1],\n",
       " [0, 1, 0, 0, 0, 0, 0],\n",
       " [0, 1, 0, 0, 0, 0, 0]]"
      ]
     },
     "metadata": {},
     "execution_count": 14
    }
   ],
   "metadata": {}
  },
  {
   "cell_type": "code",
   "execution_count": 15,
   "source": [
    "graph_copy "
   ],
   "outputs": [
    {
     "output_type": "execute_result",
     "data": {
      "text/plain": [
       "[[2, 0, 0, 0, 1, 1, 0],\n",
       " [0, 0, 1, 0, 1, 2, 0],\n",
       " [0, 1, 1, 0, 1, 0, 0],\n",
       " [0, 1, 0, 0, 0, 0, 0],\n",
       " [0, 0, 0, 0, 0, 1, 1],\n",
       " [0, 1, 0, 0, 0, 0, 0],\n",
       " [0, 1, 0, 0, 0, 0, 0]]"
      ]
     },
     "metadata": {},
     "execution_count": 15
    }
   ],
   "metadata": {}
  },
  {
   "cell_type": "code",
   "execution_count": 23,
   "source": [
    "safe_region = 0\n",
    "dx, dy = [-1,1,0,0], [0,0,-1,1]"
   ],
   "outputs": [],
   "metadata": {}
  },
  {
   "cell_type": "code",
   "execution_count": 24,
   "source": [
    "def dfs (x, y, sel_wall):\n",
    "    sel_wall[x][y] = 2\n",
    "\n",
    "    for i in range(4):\n",
    "        nx,ny = x+dx[i], y+dy[i]\n",
    "        if 0 <= nx < N and 0 <= ny < M:\n",
    "            if sel_wall [nx][ny] == 0:\n",
    "                dfs(nx,ny,sel_wall)\n",
    "    "
   ],
   "outputs": [],
   "metadata": {}
  },
  {
   "cell_type": "code",
   "execution_count": 25,
   "source": [
    "def select_wall(start, count):\n",
    "    global safe_region\n",
    "\n",
    "    if count == 3: \n",
    "        sel_wall = copy.deepcopy(graph_copy)\n",
    "\n",
    "        for i in range(N):\n",
    "            for j in range(M):\n",
    "                if sel_wall[i][j] == 2:\n",
    "                    dfs(i,j, sel_wall)\n",
    "        safe_count = sum (_.count(0) for _ in sel_wall)\n",
    "        safe_region = max (safe_region, safe_count)\n",
    "        return \n",
    "\n",
    "    else: \n",
    "        for i in range(start, N*M): \n",
    "            r = i // M \n",
    "            c = i % M \n",
    "            if graph_copy[r][c] == 0: \n",
    "                graph_copy[r][c] = 1 \n",
    "                select_wall(i,count+1) \n",
    "                graph_copy[r][c] = 0 "
   ],
   "outputs": [],
   "metadata": {}
  },
  {
   "cell_type": "code",
   "execution_count": 26,
   "source": [
    "select_wall(0,0)"
   ],
   "outputs": [],
   "metadata": {}
  },
  {
   "cell_type": "code",
   "execution_count": 27,
   "source": [
    "safe_region"
   ],
   "outputs": [
    {
     "output_type": "execute_result",
     "data": {
      "text/plain": [
       "29"
      ]
     },
     "metadata": {},
     "execution_count": 27
    }
   ],
   "metadata": {}
  }
 ],
 "metadata": {
  "orig_nbformat": 4,
  "language_info": {
   "name": "python",
   "version": "3.8.2",
   "mimetype": "text/x-python",
   "codemirror_mode": {
    "name": "ipython",
    "version": 3
   },
   "pygments_lexer": "ipython3",
   "nbconvert_exporter": "python",
   "file_extension": ".py"
  },
  "kernelspec": {
   "name": "python3",
   "display_name": "Python 3.8.2 64-bit"
  },
  "interpreter": {
   "hash": "31f2aee4e71d21fbe5cf8b01ff0e069b9275f58929596ceb00d14d90e3e16cd6"
  }
 },
 "nbformat": 4,
 "nbformat_minor": 2
}