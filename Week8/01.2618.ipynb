{
 "cells": [
  {
   "cell_type": "code",
   "execution_count": 2,
   "metadata": {},
   "outputs": [],
   "source": [
    "N = 6\n",
    "W = 3\n",
    "position = [[1,1], [N,N], [3, 5], [5, 5], [2, 3]]"
   ]
  },
  {
   "cell_type": "code",
   "execution_count": 3,
   "metadata": {},
   "outputs": [
    {
     "data": {
      "text/plain": [
       "[[-1, -1, -1, -1, -1],\n",
       " [-1, -1, -1, -1, -1],\n",
       " [-1, -1, -1, -1, -1],\n",
       " [-1, -1, -1, -1, -1],\n",
       " [-1, -1, -1, -1, -1]]"
      ]
     },
     "execution_count": 3,
     "metadata": {},
     "output_type": "execute_result"
    }
   ],
   "source": [
    "dp = [[-1 for _ in range(W+2)] for _ in range(W+2)]\n",
    "dp"
   ]
  },
  {
   "cell_type": "code",
   "execution_count": null,
   "metadata": {},
   "outputs": [],
   "source": [
    "def solution(i,j):\n",
    "    \n",
    "    if i > W or j > W: \n",
    "        return 0\n",
    "    \n",
    "    if dp[i][j] != -1: \n",
    "        return dp[i][j]\n",
    "    \n",
    "    tmp = max(i,j) + 1\n",
    "    ni = solution(tmp,j) + abs(position[tmp][0]-position[i][0]) + abs(position[tmp][1]-position[i][1])\n",
    "    nj = solution(i,tmp) + abs(position[tmp][0]-position[j][0]) + abs(position[tmp][1]-position[j][1])\n",
    "    dp[i][j] = min(ni,nj)\n",
    "    \n",
    "    return dp[i][j]\n"
   ]
  },
  {
   "cell_type": "code",
   "execution_count": null,
   "metadata": {},
   "outputs": [],
   "source": [
    "def backtracking(x,y):\n",
    "    if x > W or y > W: return\n",
    "    nc = max(x,y) + 1\n",
    "    nx = abs(position[nc][0]-position[x][0]) + abs(position[nc][1]-position[x][1])\n",
    "    ny = abs(position[nc][0]-position[y][0]) + abs(position[nc][1]-position[y][1])\n",
    "\n",
    "    if dp[nc][y]+nx < dp[x][nc]+ny:\n",
    "        print(1)\n",
    "        backtracking(nc,y)\n",
    "    else:\n",
    "        print(2)\n",
    "        backtracking(x,nc)\n",
    "    return"
   ]
  },
  {
   "cell_type": "code",
   "execution_count": null,
   "metadata": {},
   "outputs": [],
   "source": [
    "print(solution(0,1))"
   ]
  },
  {
   "cell_type": "code",
   "execution_count": null,
   "metadata": {},
   "outputs": [],
   "source": [
    "backtracking(0,1)"
   ]
  }
 ],
 "metadata": {
  "interpreter": {
   "hash": "3516fe392b73aa4c2da58fe314a090916ee110d0f8fe6cfd79b4ffaff3759604"
  },
  "kernelspec": {
   "display_name": "Python 3.10.0 64-bit",
   "language": "python",
   "name": "python3"
  },
  "language_info": {
   "codemirror_mode": {
    "name": "ipython",
    "version": 3
   },
   "file_extension": ".py",
   "mimetype": "text/x-python",
   "name": "python",
   "nbconvert_exporter": "python",
   "pygments_lexer": "ipython3",
   "version": "3.10.0"
  },
  "orig_nbformat": 4
 },
 "nbformat": 4,
 "nbformat_minor": 2
}
